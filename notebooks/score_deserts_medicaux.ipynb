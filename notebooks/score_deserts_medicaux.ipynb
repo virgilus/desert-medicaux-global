{
 "cells": [
  {
   "cell_type": "code",
   "execution_count": 61,
   "metadata": {},
   "outputs": [],
   "source": [
    "import os\n",
    "\n",
    "import csv\n",
    "import pandas as pd\n",
    "\n",
    "%matplotlib inline"
   ]
  },
  {
   "cell_type": "code",
   "execution_count": 62,
   "metadata": {},
   "outputs": [],
   "source": [
    "# Déclaration des constantes\n",
    "DATA_DIR = '../data/external/'\n",
    "PROCESSED_DIR = '../data/processed/'\n",
    "\n",
    "CITIES_FILENAME = 'base-cc-filosofi-2015.xls'\n",
    "PS_CITIES_FILENAME = 'PS_Communes.csv'\n",
    "ANALYSIS_FILENAME = 'analyse.csv'"
   ]
  },
  {
   "cell_type": "code",
   "execution_count": 63,
   "metadata": {},
   "outputs": [],
   "source": [
    "analyse_df = pd.read_csv(os.path.join(PROCESSED_DIR, ANALYSIS_FILENAME),\n",
    "                                 sep=';',\n",
    "                                 dtype={'CODGEO':str, 'codecommuneetablissement':str}, #On les encodre en string car les données manquantes sont considérées comme des nombres, donc mix types, donc bug.\n",
    "                                 )"
   ]
  },
  {
   "cell_type": "code",
   "execution_count": 64,
   "metadata": {},
   "outputs": [
    {
     "data": {
      "text/plain": [
       "[(0, 'CODGEO'),\n",
       " (1, 'LIBGEO'),\n",
       " (2, 'NBMENFISC15'),\n",
       " (3, 'NBPERSMENFISC15'),\n",
       " (4, 'MED15'),\n",
       " (5, 'PIMP15'),\n",
       " (6, 'TP6015'),\n",
       " (7, 'TP60AGE115'),\n",
       " (8, 'TP60AGE215'),\n",
       " (9, 'TP60AGE315'),\n",
       " (10, 'TP60AGE415'),\n",
       " (11, 'TP60AGE515'),\n",
       " (12, 'TP60AGE615'),\n",
       " (13, 'TP60TOL115'),\n",
       " (14, 'TP60TOL215'),\n",
       " (15, 'PACT15'),\n",
       " (16, 'PTSA15'),\n",
       " (17, 'PCHO15'),\n",
       " (18, 'PBEN15'),\n",
       " (19, 'PPEN15'),\n",
       " (20, 'PPAT15'),\n",
       " (21, 'PPSOC15'),\n",
       " (22, 'PPFAM15'),\n",
       " (23, 'PPMINI15'),\n",
       " (24, 'PPLOGT15'),\n",
       " (25, 'PIMPOT15'),\n",
       " (26, 'D115'),\n",
       " (27, 'D915'),\n",
       " (28, 'RD15'),\n",
       " (29, 'codecommuneetablissement'),\n",
       " (30, 'ambulance'),\n",
       " (31, 'analyse_medicale'),\n",
       " (32, 'autre'),\n",
       " (33, 'autre_specialiste'),\n",
       " (34, 'chirurgien'),\n",
       " (35, 'dentiste'),\n",
       " (36, 'generaliste'),\n",
       " (37, 'hopital'),\n",
       " (38, 'infirmiers'),\n",
       " (39, 'organe'),\n",
       " (40, 'radiologiste'),\n",
       " (41, 'reeducateur_podologue'),\n",
       " (42, '_merge')]"
      ]
     },
     "execution_count": 64,
     "metadata": {},
     "output_type": "execute_result"
    }
   ],
   "source": [
    "# Utile pour analyser ce qu'il se passe lorsque des mixed types sont importés\n",
    "list(enumerate(analyse_df.columns))"
   ]
  },
  {
   "cell_type": "code",
   "execution_count": 65,
   "metadata": {},
   "outputs": [
    {
     "data": {
      "text/plain": [
       "0.000642164172143855"
      ]
     },
     "execution_count": 65,
     "metadata": {},
     "output_type": "execute_result"
    }
   ],
   "source": [
    "(analyse_df.generaliste / analyse_df.NBPERSMENFISC15).mean()"
   ]
  },
  {
   "cell_type": "code",
   "execution_count": 66,
   "metadata": {},
   "outputs": [
    {
     "data": {
      "text/plain": [
       "691.9421514445384"
      ]
     },
     "execution_count": 66,
     "metadata": {},
     "output_type": "execute_result"
    }
   ],
   "source": [
    "analyse_df.NBPERSMENFISC15.sum() / analyse_df.generaliste.sum()"
   ]
  },
  {
   "cell_type": "code",
   "execution_count": 67,
   "metadata": {},
   "outputs": [
    {
     "data": {
      "text/plain": [
       "67108701.5"
      ]
     },
     "execution_count": 67,
     "metadata": {},
     "output_type": "execute_result"
    }
   ],
   "source": [
    "analyse_df.NBPERSMENFISC15.sum() # Nombre d'habitants (ici j'ai une petite erreur)"
   ]
  },
  {
   "cell_type": "code",
   "execution_count": 68,
   "metadata": {},
   "outputs": [
    {
     "data": {
      "text/plain": [
       "96986.0"
      ]
     },
     "execution_count": 68,
     "metadata": {},
     "output_type": "execute_result"
    }
   ],
   "source": [
    "analyse_df.generaliste.sum()"
   ]
  },
  {
   "cell_type": "code",
   "execution_count": 69,
   "metadata": {},
   "outputs": [
    {
     "data": {
      "text/plain": [
       "Index(['CODGEO', 'LIBGEO', 'NBMENFISC15', 'NBPERSMENFISC15', 'MED15', 'PIMP15',\n",
       "       'TP6015', 'TP60AGE115', 'TP60AGE215', 'TP60AGE315', 'TP60AGE415',\n",
       "       'TP60AGE515', 'TP60AGE615', 'TP60TOL115', 'TP60TOL215', 'PACT15',\n",
       "       'PTSA15', 'PCHO15', 'PBEN15', 'PPEN15', 'PPAT15', 'PPSOC15', 'PPFAM15',\n",
       "       'PPMINI15', 'PPLOGT15', 'PIMPOT15', 'D115', 'D915', 'RD15',\n",
       "       'codecommuneetablissement', 'ambulance', 'analyse_medicale', 'autre',\n",
       "       'autre_specialiste', 'chirurgien', 'dentiste', 'generaliste', 'hopital',\n",
       "       'infirmiers', 'organe', 'radiologiste', 'reeducateur_podologue',\n",
       "       '_merge'],\n",
       "      dtype='object')"
      ]
     },
     "execution_count": 69,
     "metadata": {},
     "output_type": "execute_result"
    }
   ],
   "source": [
    "analyse_df.columns"
   ]
  },
  {
   "cell_type": "code",
   "execution_count": 70,
   "metadata": {},
   "outputs": [
    {
     "data": {
      "text/plain": [
       "(35922, 43)"
      ]
     },
     "execution_count": 70,
     "metadata": {},
     "output_type": "execute_result"
    }
   ],
   "source": [
    "analyse_df.shape"
   ]
  },
  {
   "cell_type": "code",
   "execution_count": 71,
   "metadata": {},
   "outputs": [
    {
     "data": {
      "text/plain": [
       "<matplotlib.axes._subplots.AxesSubplot at 0x1a5bb4b40f0>"
      ]
     },
     "execution_count": 71,
     "metadata": {},
     "output_type": "execute_result"
    },
    {
     "data": {
      "image/png": "[encoded data removed]",
      "text/plain": [
       "<Figure size 432x288 with 1 Axes>"
      ]
     },
     "metadata": {
      "needs_background": "light"
     },
     "output_type": "display_data"
    }
   ],
   "source": [
    "(100_000 * analyse_df.generaliste / analyse_df.NBPERSMENFISC15).hist(bins=50)"
   ]
  },
  {
   "cell_type": "code",
   "execution_count": 72,
   "metadata": {},
   "outputs": [],
   "source": [
    "analyse_df['generaliste_habitants'] = (100_000 * analyse_df.generaliste / analyse_df.NBPERSMENFISC15)"
   ]
  },
  {
   "cell_type": "code",
   "execution_count": 73,
   "metadata": {},
   "outputs": [
    {
     "data": {
      "text/plain": [
       "<matplotlib.axes._subplots.AxesSubplot at 0x1a5bb781b38>"
      ]
     },
     "execution_count": 73,
     "metadata": {},
     "output_type": "execute_result"
    },
    {
     "data": {
      "image/png": "[encoded data removed]",
      "text/plain": [
       "<Figure size 432x288 with 1 Axes>"
      ]
     },
     "metadata": {
      "needs_background": "light"
     },
     "output_type": "display_data"
    }
   ],
   "source": [
    "analyse_df.query('generaliste_habitants < 500').generaliste_habitants.hist(bins=50)"
   ]
  },
  {
   "cell_type": "code",
   "execution_count": 74,
   "metadata": {},
   "outputs": [
    {
     "data": {
      "text/plain": [
       "0    01\n",
       "1    01\n",
       "2    01\n",
       "3    01\n",
       "4    01\n",
       "Name: CODGEO, dtype: object"
      ]
     },
     "execution_count": 74,
     "metadata": {},
     "output_type": "execute_result"
    }
   ],
   "source": [
    "analyse_df.CODGEO.str[:2].head()"
   ]
  },
  {
   "cell_type": "code",
   "execution_count": 75,
   "metadata": {},
   "outputs": [
    {
     "data": {
      "text/html": [
       "<div>\n",
       "<style scoped>\n",
       "    .dataframe tbody tr th:only-of-type {\n",
       "        vertical-align: middle;\n",
       "    }\n",
       "\n",
       "    .dataframe tbody tr th {\n",
       "        vertical-align: top;\n",
       "    }\n",
       "\n",
       "    .dataframe thead th {\n",
       "        text-align: right;\n",
       "    }\n",
       "</style>\n",
       "<table border=\"1\" class=\"dataframe\">\n",
       "  <thead>\n",
       "    <tr style=\"text-align: right;\">\n",
       "      <th></th>\n",
       "      <th>CODGEO</th>\n",
       "      <th>LIBGEO</th>\n",
       "      <th>NBMENFISC15</th>\n",
       "      <th>NBPERSMENFISC15</th>\n",
       "      <th>MED15</th>\n",
       "      <th>PIMP15</th>\n",
       "      <th>TP6015</th>\n",
       "      <th>TP60AGE115</th>\n",
       "      <th>TP60AGE215</th>\n",
       "      <th>TP60AGE315</th>\n",
       "      <th>...</th>\n",
       "      <th>chirurgien</th>\n",
       "      <th>dentiste</th>\n",
       "      <th>generaliste</th>\n",
       "      <th>hopital</th>\n",
       "      <th>infirmiers</th>\n",
       "      <th>organe</th>\n",
       "      <th>radiologiste</th>\n",
       "      <th>reeducateur_podologue</th>\n",
       "      <th>_merge</th>\n",
       "      <th>generaliste_habitants</th>\n",
       "    </tr>\n",
       "  </thead>\n",
       "  <tbody>\n",
       "    <tr>\n",
       "      <th>35916</th>\n",
       "      <td>NaN</td>\n",
       "      <td>NaN</td>\n",
       "      <td>NaN</td>\n",
       "      <td>NaN</td>\n",
       "      <td>NaN</td>\n",
       "      <td>NaN</td>\n",
       "      <td>NaN</td>\n",
       "      <td>NaN</td>\n",
       "      <td>NaN</td>\n",
       "      <td>NaN</td>\n",
       "      <td>...</td>\n",
       "      <td>0.0</td>\n",
       "      <td>0.0</td>\n",
       "      <td>0.0</td>\n",
       "      <td>0.0</td>\n",
       "      <td>0.0</td>\n",
       "      <td>0.0</td>\n",
       "      <td>0.0</td>\n",
       "      <td>1.0</td>\n",
       "      <td>right_only</td>\n",
       "      <td>NaN</td>\n",
       "    </tr>\n",
       "    <tr>\n",
       "      <th>35917</th>\n",
       "      <td>NaN</td>\n",
       "      <td>NaN</td>\n",
       "      <td>NaN</td>\n",
       "      <td>NaN</td>\n",
       "      <td>NaN</td>\n",
       "      <td>NaN</td>\n",
       "      <td>NaN</td>\n",
       "      <td>NaN</td>\n",
       "      <td>NaN</td>\n",
       "      <td>NaN</td>\n",
       "      <td>...</td>\n",
       "      <td>0.0</td>\n",
       "      <td>0.0</td>\n",
       "      <td>1.0</td>\n",
       "      <td>3.0</td>\n",
       "      <td>0.0</td>\n",
       "      <td>1.0</td>\n",
       "      <td>0.0</td>\n",
       "      <td>0.0</td>\n",
       "      <td>right_only</td>\n",
       "      <td>NaN</td>\n",
       "    </tr>\n",
       "    <tr>\n",
       "      <th>35918</th>\n",
       "      <td>NaN</td>\n",
       "      <td>NaN</td>\n",
       "      <td>NaN</td>\n",
       "      <td>NaN</td>\n",
       "      <td>NaN</td>\n",
       "      <td>NaN</td>\n",
       "      <td>NaN</td>\n",
       "      <td>NaN</td>\n",
       "      <td>NaN</td>\n",
       "      <td>NaN</td>\n",
       "      <td>...</td>\n",
       "      <td>0.0</td>\n",
       "      <td>0.0</td>\n",
       "      <td>1.0</td>\n",
       "      <td>0.0</td>\n",
       "      <td>0.0</td>\n",
       "      <td>0.0</td>\n",
       "      <td>0.0</td>\n",
       "      <td>0.0</td>\n",
       "      <td>right_only</td>\n",
       "      <td>NaN</td>\n",
       "    </tr>\n",
       "    <tr>\n",
       "      <th>35919</th>\n",
       "      <td>NaN</td>\n",
       "      <td>NaN</td>\n",
       "      <td>NaN</td>\n",
       "      <td>NaN</td>\n",
       "      <td>NaN</td>\n",
       "      <td>NaN</td>\n",
       "      <td>NaN</td>\n",
       "      <td>NaN</td>\n",
       "      <td>NaN</td>\n",
       "      <td>NaN</td>\n",
       "      <td>...</td>\n",
       "      <td>0.0</td>\n",
       "      <td>0.0</td>\n",
       "      <td>1.0</td>\n",
       "      <td>0.0</td>\n",
       "      <td>0.0</td>\n",
       "      <td>0.0</td>\n",
       "      <td>0.0</td>\n",
       "      <td>0.0</td>\n",
       "      <td>right_only</td>\n",
       "      <td>NaN</td>\n",
       "    </tr>\n",
       "    <tr>\n",
       "      <th>35920</th>\n",
       "      <td>NaN</td>\n",
       "      <td>NaN</td>\n",
       "      <td>NaN</td>\n",
       "      <td>NaN</td>\n",
       "      <td>NaN</td>\n",
       "      <td>NaN</td>\n",
       "      <td>NaN</td>\n",
       "      <td>NaN</td>\n",
       "      <td>NaN</td>\n",
       "      <td>NaN</td>\n",
       "      <td>...</td>\n",
       "      <td>0.0</td>\n",
       "      <td>0.0</td>\n",
       "      <td>0.0</td>\n",
       "      <td>2.0</td>\n",
       "      <td>0.0</td>\n",
       "      <td>0.0</td>\n",
       "      <td>0.0</td>\n",
       "      <td>0.0</td>\n",
       "      <td>right_only</td>\n",
       "      <td>NaN</td>\n",
       "    </tr>\n",
       "    <tr>\n",
       "      <th>35921</th>\n",
       "      <td>NaN</td>\n",
       "      <td>NaN</td>\n",
       "      <td>NaN</td>\n",
       "      <td>NaN</td>\n",
       "      <td>NaN</td>\n",
       "      <td>NaN</td>\n",
       "      <td>NaN</td>\n",
       "      <td>NaN</td>\n",
       "      <td>NaN</td>\n",
       "      <td>NaN</td>\n",
       "      <td>...</td>\n",
       "      <td>0.0</td>\n",
       "      <td>0.0</td>\n",
       "      <td>3.0</td>\n",
       "      <td>6.0</td>\n",
       "      <td>2.0</td>\n",
       "      <td>0.0</td>\n",
       "      <td>0.0</td>\n",
       "      <td>0.0</td>\n",
       "      <td>right_only</td>\n",
       "      <td>NaN</td>\n",
       "    </tr>\n",
       "  </tbody>\n",
       "</table>\n",
       "<p>6 rows × 44 columns</p>\n",
       "</div>"
      ],
      "text/plain": [
       "      CODGEO LIBGEO  NBMENFISC15  NBPERSMENFISC15  MED15  PIMP15  TP6015  \\\n",
       "35916    NaN    NaN          NaN              NaN    NaN     NaN     NaN   \n",
       "35917    NaN    NaN          NaN              NaN    NaN     NaN     NaN   \n",
       "35918    NaN    NaN          NaN              NaN    NaN     NaN     NaN   \n",
       "35919    NaN    NaN          NaN              NaN    NaN     NaN     NaN   \n",
       "35920    NaN    NaN          NaN              NaN    NaN     NaN     NaN   \n",
       "35921    NaN    NaN          NaN              NaN    NaN     NaN     NaN   \n",
       "\n",
       "       TP60AGE115  TP60AGE215  TP60AGE315  ...  chirurgien  dentiste  \\\n",
       "35916         NaN         NaN         NaN  ...         0.0       0.0   \n",
       "35917         NaN         NaN         NaN  ...         0.0       0.0   \n",
       "35918         NaN         NaN         NaN  ...         0.0       0.0   \n",
       "35919         NaN         NaN         NaN  ...         0.0       0.0   \n",
       "35920         NaN         NaN         NaN  ...         0.0       0.0   \n",
       "35921         NaN         NaN         NaN  ...         0.0       0.0   \n",
       "\n",
       "       generaliste  hopital  infirmiers  organe  radiologiste  \\\n",
       "35916          0.0      0.0         0.0     0.0           0.0   \n",
       "35917          1.0      3.0         0.0     1.0           0.0   \n",
       "35918          1.0      0.0         0.0     0.0           0.0   \n",
       "35919          1.0      0.0         0.0     0.0           0.0   \n",
       "35920          0.0      2.0         0.0     0.0           0.0   \n",
       "35921          3.0      6.0         2.0     0.0           0.0   \n",
       "\n",
       "       reeducateur_podologue      _merge  generaliste_habitants  \n",
       "35916                    1.0  right_only                    NaN  \n",
       "35917                    0.0  right_only                    NaN  \n",
       "35918                    0.0  right_only                    NaN  \n",
       "35919                    0.0  right_only                    NaN  \n",
       "35920                    0.0  right_only                    NaN  \n",
       "35921                    0.0  right_only                    NaN  \n",
       "\n",
       "[6 rows x 44 columns]"
      ]
     },
     "execution_count": 75,
     "metadata": {},
     "output_type": "execute_result"
    }
   ],
   "source": [
    "analyse_df.loc[(analyse_df.CODGEO.isnull()) & (analyse_df.codecommuneetablissement.str[:2] == '98')]"
   ]
  },
  {
   "cell_type": "code",
   "execution_count": 76,
   "metadata": {},
   "outputs": [
    {
     "data": {
      "text/plain": [
       "35916    98733\n",
       "35917    98735\n",
       "35918    98738\n",
       "35919    98749\n",
       "35920    98812\n",
       "35921    98818\n",
       "Name: codecommuneetablissement, dtype: object"
      ]
     },
     "execution_count": 76,
     "metadata": {},
     "output_type": "execute_result"
    }
   ],
   "source": [
    "analyse_df.loc[(analyse_df.CODGEO.isnull()) & (analyse_df.codecommuneetablissement.str[:2] == '98')]['codecommuneetablissement']"
   ]
  },
  {
   "cell_type": "code",
   "execution_count": 77,
   "metadata": {},
   "outputs": [
    {
     "data": {
      "text/plain": [
       "35848    29083\n",
       "35849    97101\n",
       "35850    97102\n",
       "35851    97103\n",
       "35852    97104\n",
       "35853    97105\n",
       "35854    97106\n",
       "35855    97107\n",
       "35856    97108\n",
       "35857    97109\n",
       "35858    97110\n",
       "35859    97111\n",
       "35860    97112\n",
       "35861    97113\n",
       "35862    97114\n",
       "35863    97115\n",
       "35864    97116\n",
       "35865    97117\n",
       "35866    97118\n",
       "35867    97119\n",
       "35868    97120\n",
       "35869    97121\n",
       "35870    97122\n",
       "35871    97124\n",
       "35872    97125\n",
       "35873    97126\n",
       "35874    97128\n",
       "35875    97129\n",
       "35876    97130\n",
       "35877    97131\n",
       "         ...  \n",
       "35892    97312\n",
       "35893    97313\n",
       "35894    97353\n",
       "35895    97360\n",
       "35896    97502\n",
       "35897    97601\n",
       "35898    97602\n",
       "35899    97603\n",
       "35900    97604\n",
       "35901    97605\n",
       "35902    97606\n",
       "35903    97607\n",
       "35904    97608\n",
       "35905    97609\n",
       "35906    97610\n",
       "35907    97611\n",
       "35908    97612\n",
       "35909    97613\n",
       "35910    97614\n",
       "35911    97615\n",
       "35912    97616\n",
       "35913    97617\n",
       "35914    97701\n",
       "35915    97801\n",
       "35916    98733\n",
       "35917    98735\n",
       "35918    98738\n",
       "35919    98749\n",
       "35920    98812\n",
       "35921    98818\n",
       "Name: codecommuneetablissement, Length: 74, dtype: object"
      ]
     },
     "execution_count": 77,
     "metadata": {},
     "output_type": "execute_result"
    }
   ],
   "source": [
    "analyse_df.loc[analyse_df.CODGEO.isnull()]['codecommuneetablissement']"
   ]
  },
  {
   "cell_type": "code",
   "execution_count": 78,
   "metadata": {},
   "outputs": [
    {
     "data": {
      "text/plain": [
       "97    67\n",
       "98     6\n",
       "29     1\n",
       "Name: codecommuneetablissement, dtype: int64"
      ]
     },
     "execution_count": 78,
     "metadata": {},
     "output_type": "execute_result"
    }
   ],
   "source": [
    "# Affiche les communes qui n'ont pas de code geo (on peut connaître le département)\n",
    "analyse_df.loc[analyse_df.CODGEO.isnull()]['codecommuneetablissement'].str[:2].value_counts()"
   ]
  },
  {
   "cell_type": "code",
   "execution_count": 79,
   "metadata": {},
   "outputs": [
    {
     "data": {
      "text/plain": [
       "Index(['CODGEO', 'LIBGEO', 'NBMENFISC15', 'NBPERSMENFISC15', 'MED15', 'PIMP15',\n",
       "       'TP6015', 'TP60AGE115', 'TP60AGE215', 'TP60AGE315', 'TP60AGE415',\n",
       "       'TP60AGE515', 'TP60AGE615', 'TP60TOL115', 'TP60TOL215', 'PACT15',\n",
       "       'PTSA15', 'PCHO15', 'PBEN15', 'PPEN15', 'PPAT15', 'PPSOC15', 'PPFAM15',\n",
       "       'PPMINI15', 'PPLOGT15', 'PIMPOT15', 'D115', 'D915', 'RD15',\n",
       "       'codecommuneetablissement', 'ambulance', 'analyse_medicale', 'autre',\n",
       "       'autre_specialiste', 'chirurgien', 'dentiste', 'generaliste', 'hopital',\n",
       "       'infirmiers', 'organe', 'radiologiste', 'reeducateur_podologue',\n",
       "       '_merge', 'generaliste_habitants'],\n",
       "      dtype='object')"
      ]
     },
     "execution_count": 79,
     "metadata": {},
     "output_type": "execute_result"
    }
   ],
   "source": [
    "analyse_df.columns"
   ]
  },
  {
   "cell_type": "code",
   "execution_count": 80,
   "metadata": {},
   "outputs": [],
   "source": [
    "dept_df = (analyse_df\n",
    "          .dropna(subset=['CODGEO', 'NBPERSMENFISC15'])\n",
    "          .assign(departement = lambda df: df.CODGEO.str[:2])\n",
    "          .groupby('departement')\n",
    "           [['NBPERSMENFISC15','ambulance', 'analyse_medicale', 'autre',\n",
    "       'autre_specialiste', 'chirurgien', 'dentiste', 'generaliste', 'hopital',\n",
    "       'infirmiers', 'organe', 'radiologiste', 'reeducateur_podologue',]]\n",
    "           .sum()\n",
    "          )"
   ]
  },
  {
   "cell_type": "code",
   "execution_count": 81,
   "metadata": {},
   "outputs": [
    {
     "data": {
      "text/html": [
       "<div>\n",
       "<style scoped>\n",
       "    .dataframe tbody tr th:only-of-type {\n",
       "        vertical-align: middle;\n",
       "    }\n",
       "\n",
       "    .dataframe tbody tr th {\n",
       "        vertical-align: top;\n",
       "    }\n",
       "\n",
       "    .dataframe thead th {\n",
       "        text-align: right;\n",
       "    }\n",
       "</style>\n",
       "<table border=\"1\" class=\"dataframe\">\n",
       "  <thead>\n",
       "    <tr style=\"text-align: right;\">\n",
       "      <th></th>\n",
       "      <th>NBPERSMENFISC15</th>\n",
       "      <th>ambulance</th>\n",
       "      <th>analyse_medicale</th>\n",
       "      <th>autre</th>\n",
       "      <th>autre_specialiste</th>\n",
       "      <th>chirurgien</th>\n",
       "      <th>dentiste</th>\n",
       "      <th>generaliste</th>\n",
       "      <th>hopital</th>\n",
       "      <th>infirmiers</th>\n",
       "      <th>organe</th>\n",
       "      <th>radiologiste</th>\n",
       "      <th>reeducateur_podologue</th>\n",
       "    </tr>\n",
       "    <tr>\n",
       "      <th>departement</th>\n",
       "      <th></th>\n",
       "      <th></th>\n",
       "      <th></th>\n",
       "      <th></th>\n",
       "      <th></th>\n",
       "      <th></th>\n",
       "      <th></th>\n",
       "      <th></th>\n",
       "      <th></th>\n",
       "      <th></th>\n",
       "      <th></th>\n",
       "      <th></th>\n",
       "      <th></th>\n",
       "    </tr>\n",
       "  </thead>\n",
       "  <tbody>\n",
       "    <tr>\n",
       "      <th>01</th>\n",
       "      <td>611797.0</td>\n",
       "      <td>82.0</td>\n",
       "      <td>39.0</td>\n",
       "      <td>718.0</td>\n",
       "      <td>203.0</td>\n",
       "      <td>39.0</td>\n",
       "      <td>368.0</td>\n",
       "      <td>597.0</td>\n",
       "      <td>138.0</td>\n",
       "      <td>1070.0</td>\n",
       "      <td>1.0</td>\n",
       "      <td>38.0</td>\n",
       "      <td>959.0</td>\n",
       "    </tr>\n",
       "    <tr>\n",
       "      <th>02</th>\n",
       "      <td>518914.0</td>\n",
       "      <td>65.0</td>\n",
       "      <td>36.0</td>\n",
       "      <td>238.0</td>\n",
       "      <td>263.0</td>\n",
       "      <td>25.0</td>\n",
       "      <td>261.0</td>\n",
       "      <td>567.0</td>\n",
       "      <td>119.0</td>\n",
       "      <td>986.0</td>\n",
       "      <td>5.0</td>\n",
       "      <td>59.0</td>\n",
       "      <td>562.0</td>\n",
       "    </tr>\n",
       "    <tr>\n",
       "      <th>03</th>\n",
       "      <td>332244.5</td>\n",
       "      <td>59.0</td>\n",
       "      <td>25.0</td>\n",
       "      <td>307.0</td>\n",
       "      <td>157.0</td>\n",
       "      <td>35.0</td>\n",
       "      <td>192.0</td>\n",
       "      <td>392.0</td>\n",
       "      <td>59.0</td>\n",
       "      <td>774.0</td>\n",
       "      <td>2.0</td>\n",
       "      <td>30.0</td>\n",
       "      <td>525.0</td>\n",
       "    </tr>\n",
       "    <tr>\n",
       "      <th>04</th>\n",
       "      <td>156728.5</td>\n",
       "      <td>23.0</td>\n",
       "      <td>18.0</td>\n",
       "      <td>279.0</td>\n",
       "      <td>118.0</td>\n",
       "      <td>15.0</td>\n",
       "      <td>134.0</td>\n",
       "      <td>342.0</td>\n",
       "      <td>48.0</td>\n",
       "      <td>631.0</td>\n",
       "      <td>0.0</td>\n",
       "      <td>6.0</td>\n",
       "      <td>419.0</td>\n",
       "    </tr>\n",
       "    <tr>\n",
       "      <th>05</th>\n",
       "      <td>135089.5</td>\n",
       "      <td>33.0</td>\n",
       "      <td>14.0</td>\n",
       "      <td>235.0</td>\n",
       "      <td>138.0</td>\n",
       "      <td>21.0</td>\n",
       "      <td>134.0</td>\n",
       "      <td>379.0</td>\n",
       "      <td>66.0</td>\n",
       "      <td>483.0</td>\n",
       "      <td>2.0</td>\n",
       "      <td>25.0</td>\n",
       "      <td>596.0</td>\n",
       "    </tr>\n",
       "  </tbody>\n",
       "</table>\n",
       "</div>"
      ],
      "text/plain": [
       "             NBPERSMENFISC15  ambulance  analyse_medicale  autre  \\\n",
       "departement                                                        \n",
       "01                  611797.0       82.0              39.0  718.0   \n",
       "02                  518914.0       65.0              36.0  238.0   \n",
       "03                  332244.5       59.0              25.0  307.0   \n",
       "04                  156728.5       23.0              18.0  279.0   \n",
       "05                  135089.5       33.0              14.0  235.0   \n",
       "\n",
       "             autre_specialiste  chirurgien  dentiste  generaliste  hopital  \\\n",
       "departement                                                                  \n",
       "01                       203.0        39.0     368.0        597.0    138.0   \n",
       "02                       263.0        25.0     261.0        567.0    119.0   \n",
       "03                       157.0        35.0     192.0        392.0     59.0   \n",
       "04                       118.0        15.0     134.0        342.0     48.0   \n",
       "05                       138.0        21.0     134.0        379.0     66.0   \n",
       "\n",
       "             infirmiers  organe  radiologiste  reeducateur_podologue  \n",
       "departement                                                           \n",
       "01               1070.0     1.0          38.0                  959.0  \n",
       "02                986.0     5.0          59.0                  562.0  \n",
       "03                774.0     2.0          30.0                  525.0  \n",
       "04                631.0     0.0           6.0                  419.0  \n",
       "05                483.0     2.0          25.0                  596.0  "
      ]
     },
     "execution_count": 81,
     "metadata": {},
     "output_type": "execute_result"
    }
   ],
   "source": [
    "dept_df.head()"
   ]
  },
  {
   "cell_type": "code",
   "execution_count": 82,
   "metadata": {},
   "outputs": [],
   "source": [
    "dept_df['generaliste_habitant'] = 100_000 * dept_df.generaliste / dept_df.NBPERSMENFISC15"
   ]
  },
  {
   "cell_type": "code",
   "execution_count": 83,
   "metadata": {},
   "outputs": [
    {
     "data": {
      "text/plain": [
       "<matplotlib.axes._subplots.AxesSubplot at 0x1a5bbb6f710>"
      ]
     },
     "execution_count": 83,
     "metadata": {},
     "output_type": "execute_result"
    },
    {
     "data": {
      "image/png": "[encoded data removed]",
      "text/plain": [
       "<Figure size 432x288 with 1 Axes>"
      ]
     },
     "metadata": {
      "needs_background": "light"
     },
     "output_type": "display_data"
    }
   ],
   "source": [
    "dept_df.generaliste_habitant.hist(bins=25)"
   ]
  },
  {
   "cell_type": "code",
   "execution_count": 84,
   "metadata": {},
   "outputs": [
    {
     "data": {
      "text/plain": [
       "count     97.000000\n",
       "mean     142.256348\n",
       "std       33.114357\n",
       "min       87.292227\n",
       "25%      117.985399\n",
       "50%      136.252689\n",
       "75%      160.325195\n",
       "max      280.554743\n",
       "Name: generaliste_habitant, dtype: float64"
      ]
     },
     "execution_count": 84,
     "metadata": {},
     "output_type": "execute_result"
    }
   ],
   "source": [
    "dept_df.generaliste_habitant.describe()\n",
    "# En moyenne 142 généralistes pour 100 000 habitants"
   ]
  },
  {
   "cell_type": "code",
   "execution_count": 85,
   "metadata": {},
   "outputs": [
    {
     "data": {
      "text/html": [
       "<div>\n",
       "<style scoped>\n",
       "    .dataframe tbody tr th:only-of-type {\n",
       "        vertical-align: middle;\n",
       "    }\n",
       "\n",
       "    .dataframe tbody tr th {\n",
       "        vertical-align: top;\n",
       "    }\n",
       "\n",
       "    .dataframe thead th {\n",
       "        text-align: right;\n",
       "    }\n",
       "</style>\n",
       "<table border=\"1\" class=\"dataframe\">\n",
       "  <thead>\n",
       "    <tr style=\"text-align: right;\">\n",
       "      <th></th>\n",
       "      <th>NBPERSMENFISC15</th>\n",
       "      <th>generaliste_habitant</th>\n",
       "    </tr>\n",
       "    <tr>\n",
       "      <th>departement</th>\n",
       "      <th></th>\n",
       "      <th></th>\n",
       "    </tr>\n",
       "  </thead>\n",
       "  <tbody>\n",
       "    <tr>\n",
       "      <th>27</th>\n",
       "      <td>592263.5</td>\n",
       "      <td>87.292227</td>\n",
       "    </tr>\n",
       "    <tr>\n",
       "      <th>53</th>\n",
       "      <td>301157.0</td>\n",
       "      <td>91.978603</td>\n",
       "    </tr>\n",
       "    <tr>\n",
       "      <th>28</th>\n",
       "      <td>429705.0</td>\n",
       "      <td>92.388965</td>\n",
       "    </tr>\n",
       "    <tr>\n",
       "      <th>89</th>\n",
       "      <td>329374.0</td>\n",
       "      <td>95.635964</td>\n",
       "    </tr>\n",
       "    <tr>\n",
       "      <th>72</th>\n",
       "      <td>554255.5</td>\n",
       "      <td>95.984614</td>\n",
       "    </tr>\n",
       "    <tr>\n",
       "      <th>34</th>\n",
       "      <td>1084819.0</td>\n",
       "      <td>202.430083</td>\n",
       "    </tr>\n",
       "    <tr>\n",
       "      <th>06</th>\n",
       "      <td>1113414.5</td>\n",
       "      <td>203.248655</td>\n",
       "    </tr>\n",
       "    <tr>\n",
       "      <th>2A</th>\n",
       "      <td>123172.0</td>\n",
       "      <td>203.780080</td>\n",
       "    </tr>\n",
       "    <tr>\n",
       "      <th>04</th>\n",
       "      <td>156728.5</td>\n",
       "      <td>218.211748</td>\n",
       "    </tr>\n",
       "    <tr>\n",
       "      <th>05</th>\n",
       "      <td>135089.5</td>\n",
       "      <td>280.554743</td>\n",
       "    </tr>\n",
       "  </tbody>\n",
       "</table>\n",
       "</div>"
      ],
      "text/plain": [
       "             NBPERSMENFISC15  generaliste_habitant\n",
       "departement                                       \n",
       "27                  592263.5             87.292227\n",
       "53                  301157.0             91.978603\n",
       "28                  429705.0             92.388965\n",
       "89                  329374.0             95.635964\n",
       "72                  554255.5             95.984614\n",
       "34                 1084819.0            202.430083\n",
       "06                 1113414.5            203.248655\n",
       "2A                  123172.0            203.780080\n",
       "04                  156728.5            218.211748\n",
       "05                  135089.5            280.554743"
      ]
     },
     "execution_count": 85,
     "metadata": {},
     "output_type": "execute_result"
    }
   ],
   "source": [
    "# Affichage des 5 départements les mieux classés et des 5 départements les moins bien classés en terme de généralistes par habitants\n",
    "\n",
    "pd.concat([\n",
    "    dept_df.sort_values(by='generaliste_habitant')[['NBPERSMENFISC15', 'generaliste_habitant']].head(),\n",
    "    dept_df.sort_values(by='generaliste_habitant')[['NBPERSMENFISC15', 'generaliste_habitant']].tail()],\n",
    "    axis=0)\n"
   ]
  },
  {
   "cell_type": "code",
   "execution_count": 86,
   "metadata": {},
   "outputs": [],
   "source": [
    "dept_df['infirmiers_habitant'] = 100_000 * dept_df.infirmiers / dept_df.NBPERSMENFISC15"
   ]
  },
  {
   "cell_type": "code",
   "execution_count": 87,
   "metadata": {},
   "outputs": [],
   "source": [
    "import matplotlib.pyplot as plt\n",
    "import seaborn as sns"
   ]
  },
  {
   "cell_type": "code",
   "execution_count": 88,
   "metadata": {},
   "outputs": [
    {
     "data": {
      "image/png": "[encoded data removed]",
      "text/plain": [
       "<Figure size 1080x720 with 1 Axes>"
      ]
     },
     "metadata": {
      "needs_background": "light"
     },
     "output_type": "display_data"
    }
   ],
   "source": [
    "# En rajoutant un \";\" à la fin, on permet d'afficher un graphique sans afficher le nom de l'objet\n",
    "\n",
    "\n",
    "dept_df.plot(kind='scatter', x='generaliste_habitant', y='infirmiers_habitant', figsize=(15,10));\n",
    "\n",
    "# Comme le tableau est petit, on peut itérer sur chaque élément, on itère donc sur toutes les valeurs de i. Sur chaque valeur de i on écrit un texte\n",
    "# iloc = index location. Pour éviter qu'ils soient trop collés au point, on rajoute un décalage en x et en y, ce qui permet de décoller les points\n",
    "# \n",
    "\n",
    "for i in range(0,dept_df.shape[0]):\n",
    "    plt.text(dept_df['generaliste_habitant'].iloc[i]+1, # Position en x du libellé\n",
    "            dept_df['infirmiers_habitant'].iloc[i]+1, # Position en y du libellé\n",
    "            dept_df.index[i], # texte du libellé.\n",
    "             fontsize = 9\n",
    "            )"
   ]
  },
  {
   "cell_type": "code",
   "execution_count": 89,
   "metadata": {},
   "outputs": [
    {
     "name": "stderr",
     "output_type": "stream",
     "text": [
      "C:\\Users\\VirgilusFixe\\Anaconda3\\lib\\site-packages\\scipy\\stats\\stats.py:1713: FutureWarning: Using a non-tuple sequence for multidimensional indexing is deprecated; use `arr[tuple(seq)]` instead of `arr[seq]`. In the future this will be interpreted as an array index, `arr[np.array(seq)]`, which will result either in an error or a different result.\n",
      "  return np.add.reduce(sorted[indexer] * weights, axis=axis) / sumval\n"
     ]
    },
    {
     "data": {
      "image/png": "[encoded data removed]",
      "text/plain": [
       "<Figure size 720x576 with 1 Axes>"
      ]
     },
     "metadata": {
      "needs_background": "light"
     },
     "output_type": "display_data"
    }
   ],
   "source": [
    "# Avec seaborn\n",
    "\n",
    "plt.figure(figsize=(10, 8))\n",
    "\n",
    "sns.regplot(x='generaliste_habitant', y='infirmiers_habitant', data=dept_df)\n",
    "\n",
    "for i in range(0,dept_df.shape[0]):\n",
    "    plt.text(dept_df['generaliste_habitant'].iloc[i]+1, # Position en x du libellé\n",
    "            dept_df['infirmiers_habitant'].iloc[i]+1, # Position en y du libellé\n",
    "            dept_df.index[i], # texte du libellé.\n",
    "             fontsize = 9\n",
    "            )"
   ]
  },
  {
   "cell_type": "markdown",
   "metadata": {},
   "source": [
    "### Pour les ambulanciers"
   ]
  },
  {
   "cell_type": "code",
   "execution_count": 90,
   "metadata": {},
   "outputs": [],
   "source": [
    "dept_df['ambulance_habitant'] = 100_000 * dept_df.ambulance / dept_df.NBPERSMENFISC15"
   ]
  },
  {
   "cell_type": "code",
   "execution_count": 91,
   "metadata": {},
   "outputs": [
    {
     "data": {
      "image/png": "[encoded data removed]",
      "text/plain": [
       "<Figure size 720x576 with 1 Axes>"
      ]
     },
     "metadata": {
      "needs_background": "light"
     },
     "output_type": "display_data"
    }
   ],
   "source": [
    "# Avec seaborn\n",
    "\n",
    "plt.figure(figsize=(10, 8))\n",
    "\n",
    "sns.regplot(x='generaliste_habitant', y='ambulance_habitant', data=dept_df)\n",
    "\n",
    "for i in range(0,dept_df.shape[0]):\n",
    "    plt.text(dept_df['generaliste_habitant'].iloc[i]+1, # Position en x du libellé\n",
    "            dept_df['ambulance_habitant'].iloc[i]+1, # Position en y du libellé\n",
    "            dept_df.index[i], # texte du libellé.\n",
    "             fontsize = 9\n",
    "            )"
   ]
  },
  {
   "cell_type": "markdown",
   "metadata": {},
   "source": [
    "### Pour les hôpitaux"
   ]
  },
  {
   "cell_type": "code",
   "execution_count": 92,
   "metadata": {},
   "outputs": [],
   "source": [
    "dept_df['hopital_habitant'] = 100_000 * dept_df.hopital / dept_df.NBPERSMENFISC15"
   ]
  },
  {
   "cell_type": "code",
   "execution_count": 93,
   "metadata": {},
   "outputs": [
    {
     "data": {
      "image/png": "[encoded data removed]",
      "text/plain": [
       "<Figure size 720x576 with 1 Axes>"
      ]
     },
     "metadata": {
      "needs_background": "light"
     },
     "output_type": "display_data"
    }
   ],
   "source": [
    "# Avec seaborn\n",
    "\n",
    "plt.figure(figsize=(10, 8))\n",
    "\n",
    "sns.regplot(x='hopital_habitant', y='ambulance_habitant', data=dept_df)\n",
    "\n",
    "for i in range(0,dept_df.shape[0]):\n",
    "    plt.text(dept_df['hopital_habitant'].iloc[i]+1, # Position en x du libellé\n",
    "            dept_df['ambulance_habitant'].iloc[i]+1, # Position en y du libellé\n",
    "            dept_df.index[i], # texte du libellé.\n",
    "             fontsize = 9\n",
    "            )"
   ]
  },
  {
   "cell_type": "code",
   "execution_count": 94,
   "metadata": {},
   "outputs": [],
   "source": [
    "# Ici on a une bonne corrélation. Le dépt 48 est toujours assez spécial."
   ]
  },
  {
   "cell_type": "code",
   "execution_count": 95,
   "metadata": {},
   "outputs": [],
   "source": [
    "import pygal.maps"
   ]
  },
  {
   "cell_type": "code",
   "execution_count": 96,
   "metadata": {},
   "outputs": [
    {
     "data": {
      "text/plain": [
       "{'01': 97.58138729022862,\n",
       " '02': 109.26666075688843,\n",
       " '03': 117.98539930683577,\n",
       " '04': 218.21174834187784,\n",
       " '05': 280.55474333682486,\n",
       " '06': 203.2486553749749,\n",
       " '07': 125.66561522204098,\n",
       " '08': 116.70512631056447,\n",
       " '09': 164.34379868951828,\n",
       " '10': 108.6420262425502,\n",
       " '11': 147.88217760822155,\n",
       " '12': 126.804050226409,\n",
       " '13': 146.53114451239068,\n",
       " '14': 161.41066604088067,\n",
       " '15': 151.02175657180612,\n",
       " '16': 127.3592415049617,\n",
       " '17': 168.25096408592333,\n",
       " '18': 115.99241202376675,\n",
       " '19': 134.43361628617282,\n",
       " '21': 174.87053247668564,\n",
       " '22': 122.25124914398762,\n",
       " '23': 116.03223717349069,\n",
       " '24': 140.06910075637313,\n",
       " '25': 156.42196373449696,\n",
       " '26': 135.56040672138622,\n",
       " '27': 87.2922271927951,\n",
       " '28': 92.38896452217219,\n",
       " '29': 143.16440532832294,\n",
       " '2A': 203.7800798882863,\n",
       " '2B': 191.17458234060462,\n",
       " '30': 142.97118103570696,\n",
       " '31': 183.23727918817158,\n",
       " '32': 156.74330912458026,\n",
       " '33': 189.6048744890934,\n",
       " '34': 202.4300828064405,\n",
       " '35': 143.96688761584835,\n",
       " '36': 122.06709528862626,\n",
       " '37': 166.9824949811441,\n",
       " '38': 146.1874191009555,\n",
       " '39': 136.2840158891129,\n",
       " '40': 161.09333673003005,\n",
       " '41': 109.76595017300401,\n",
       " '42': 153.23961933332657,\n",
       " '43': 122.4625865458974,\n",
       " '44': 152.62139371319267,\n",
       " '45': 98.75726681372531,\n",
       " '46': 155.4619679906237,\n",
       " '47': 121.40613768573819,\n",
       " '48': 136.10718806940002,\n",
       " '49': 146.6850331477536,\n",
       " '50': 118.89887343317422,\n",
       " '51': 156.2923174144624,\n",
       " '52': 125.09229370450149,\n",
       " '53': 91.97860252293654,\n",
       " '54': 182.72989659249106,\n",
       " '55': 130.6958978258795,\n",
       " '56': 135.67051292119467,\n",
       " '57': 134.2169449394544,\n",
       " '58': 117.56755738326773,\n",
       " '59': 160.32519479054343,\n",
       " '60': 99.6756224637766,\n",
       " '61': 103.98887355798115,\n",
       " '62': 127.79279203086634,\n",
       " '63': 144.06644460451827,\n",
       " '64': 200.28786562364846,\n",
       " '65': 172.7160789654117,\n",
       " '66': 171.46223968964674,\n",
       " '67': 186.3260201769258,\n",
       " '68': 128.37758940365168,\n",
       " '69': 132.5154394267092,\n",
       " '70': 115.79912361117812,\n",
       " '71': 126.4160129432124,\n",
       " '72': 95.98461359427196,\n",
       " '73': 200.79821438943236,\n",
       " '74': 143.42884584600608,\n",
       " '75': 140.62208577661028,\n",
       " '76': 136.25268860164707,\n",
       " '77': 97.3480620564923,\n",
       " '78': 127.61500843900117,\n",
       " '79': 115.2483956281717,\n",
       " '80': 185.1059088727864,\n",
       " '81': 140.1740383901979,\n",
       " '82': 131.34798858466573,\n",
       " '83': 181.35280443044806,\n",
       " '84': 156.01251316858196,\n",
       " '85': 102.65550026225038,\n",
       " '86': 155.66252949170573,\n",
       " '87': 175.31760384169303,\n",
       " '88': 127.99883484649243,\n",
       " '89': 95.63596398015629,\n",
       " '90': 108.48348209838049,\n",
       " '91': 114.87632771881158,\n",
       " '92': 146.33731317886617,\n",
       " '93': 109.04860541095319,\n",
       " '94': 129.64377946786078,\n",
       " '95': 113.72440947118962,\n",
       " '97': 172.32595391595083}"
      ]
     },
     "execution_count": 96,
     "metadata": {},
     "output_type": "execute_result"
    }
   ],
   "source": [
    "dept_df['generaliste_habitant'].to_dict()"
   ]
  },
  {
   "cell_type": "raw",
   "metadata": {},
   "source": [
    "fr_chart = pygal.maps.fr.Departments()\n",
    "fr_chart.title = \"Généralistes par 100 000 habitants\"\n",
    "fr_chart.add('Généraliste par 100 000 habitants',\n",
    "             values=dept_df['generaliste_habitant'].to_dict())\n",
    "#fr_chart.render_in_browser() # Pour l'afficher dans un navigateur"
   ]
  },
  {
   "cell_type": "raw",
   "metadata": {},
   "source": [
    "type(fr_chart)"
   ]
  },
  {
   "cell_type": "raw",
   "metadata": {},
   "source": [
    "from IPython.display import SVG, html"
   ]
  },
  {
   "cell_type": "markdown",
   "metadata": {},
   "source": [
    "### Ajout des régions dans le fichier département"
   ]
  },
  {
   "cell_type": "code",
   "execution_count": 97,
   "metadata": {},
   "outputs": [],
   "source": [
    "regions_df = pd.read_csv('https://gist.githubusercontent.com/gzurbach/b0ccdeda51ec2fe135d5/raw/b89e3d2ac21ddb251b1aed0528ddc9437a07818f/departments_regions_france_2016.csv',\n",
    "                         dtype=str,\n",
    "                         sep = \",\",\n",
    "                        )\n",
    "regions_df.rename(columns={'departmentCode':'code_dept',\n",
    "                           'departmentName':'nom_dept',\n",
    "                           'regionName':'nom_region'\n",
    "                          }, inplace=True)\n",
    "regions_df['code_dept'] = regions_df['code_dept'].str.upper() # On passe la colonne en upper case pour que les codes de la corse (\"2a\" et \"2b\") soient correctement formatés.\n"
   ]
  },
  {
   "cell_type": "code",
   "execution_count": 98,
   "metadata": {},
   "outputs": [],
   "source": [
    "dept_df.rename(columns={'NBPERSMENFISC15':'population'}, inplace=True)\n",
    "dept_df = dept_df.rename_axis('code_dept')\n",
    "dept_df = dept_df.drop('97') # Suppression de l'observation des départements qui ne sont pas en France métropolitaine et commencent donc par 97"
   ]
  },
  {
   "cell_type": "code",
   "execution_count": 99,
   "metadata": {},
   "outputs": [
    {
     "data": {
      "text/plain": [
       "Index(['population', 'ambulance', 'analyse_medicale', 'autre',\n",
       "       'autre_specialiste', 'chirurgien', 'dentiste', 'generaliste', 'hopital',\n",
       "       'infirmiers', 'organe', 'radiologiste', 'reeducateur_podologue',\n",
       "       'generaliste_habitant', 'infirmiers_habitant', 'ambulance_habitant',\n",
       "       'hopital_habitant'],\n",
       "      dtype='object')"
      ]
     },
     "execution_count": 99,
     "metadata": {},
     "output_type": "execute_result"
    }
   ],
   "source": [
    "dept_df.columns"
   ]
  },
  {
   "cell_type": "code",
   "execution_count": 58,
   "metadata": {},
   "outputs": [],
   "source": [
    "dept_df = pd.merge(dept_df,\n",
    "                     regions_df[['nom_region','code_dept','nom_dept']],\n",
    "                     how='left', on='code_dept'\n",
    "                    ).set_index('code_dept')"
   ]
  },
  {
   "cell_type": "markdown",
   "metadata": {},
   "source": [
    "##### Calcul de tous les taux pour 100 000 habitants"
   ]
  },
  {
   "cell_type": "code",
   "execution_count": 103,
   "metadata": {},
   "outputs": [],
   "source": [
    "def tx_par_hab(list_of_columns):\n",
    "    for column in list_of_columns:\n",
    "        dept_df[column +'_habitant'] = 100_000 * dept_df[column] / dept_df['population']"
   ]
  },
  {
   "cell_type": "code",
   "execution_count": 101,
   "metadata": {},
   "outputs": [],
   "source": [
    "columns_to_process = ['ambulance', 'analyse_medicale', 'autre',\n",
    "                    'autre_specialiste', 'chirurgien', 'dentiste',\n",
    "                    'organe','radiologiste','reeducateur_podologue']\n",
    "tx_par_hab(columns_to_process)"
   ]
  },
  {
   "cell_type": "markdown",
   "metadata": {},
   "source": [
    "### Calcul d'un indice"
   ]
  },
  {
   "cell_type": "markdown",
   "metadata": {},
   "source": [
    "Il existe une grande variété d'indicateurs utilisés pour calculer un désert médical.\n",
    "Le ministère de la Santé [considère](http://www.leparisien.fr/societe/grand-debat-et-si-on-forcait-les-medecins-a-s-installer-dans-les-deserts-medicaux-26-02-2019-8020416.php) qu’un territoire rentre dans la catégorie du « désert médical » quand la densité de médecins par rapport à la population est de 30 % inférieure à la moyenne nationale.\n",
    "\n",
    "En France il y a en moyenne, pour 100 000 habitants, [82 médecins généralistes et 85 spécialistes.](http://www.securite-sociale.fr/IMG/pdf/2_demographie_des_medecins_liberaux_et_remboursements_de_l_assurance_maladie.pdf). Malheureusement, les données utilisées pour notre étude nous amènent à un résultat plus élevé puisque notre moyenne se situe à 142 généralistes par habitants. Cependant, on peut garder l'idée comme quoi les départements pour lesquels cette moyenne est inférieure à 30% de la moyenne nationale connaissent un fort déficit de médecin. Cela peut être utile pour mettre en valeur certains départements, mais est trop réducteur pour correctement caractériser un désert médical."
   ]
  },
  {
   "cell_type": "markdown",
   "metadata": {},
   "source": [
    "##### Calcul des moyennes pour le taux d'Hopitaux par habitants, d'infirmiers par habitants et de généralistes par habitants (pour 100 000 personnes) "
   ]
  },
  {
   "cell_type": "code",
   "execution_count": 418,
   "metadata": {},
   "outputs": [
    {
     "data": {
      "text/plain": [
       "count     96.000000\n",
       "mean     141.943123\n",
       "std       33.143424\n",
       "min       87.292227\n",
       "25%      117.880939\n",
       "50%      136.179938\n",
       "75%      157.638781\n",
       "max      280.554743\n",
       "Name: generaliste_habitant, dtype: float64"
      ]
     },
     "execution_count": 418,
     "metadata": {},
     "output_type": "execute_result"
    }
   ],
   "source": [
    "dept_df['generaliste_habitant'].describe()"
   ]
  },
  {
   "cell_type": "code",
   "execution_count": 419,
   "metadata": {},
   "outputs": [
    {
     "data": {
      "text/plain": [
       "count     96.000000\n",
       "mean     217.735805\n",
       "std      100.081292\n",
       "min       76.082845\n",
       "25%      149.056570\n",
       "50%      190.423203\n",
       "75%      280.623965\n",
       "max      617.750703\n",
       "Name: infirmiers_habitant, dtype: float64"
      ]
     },
     "execution_count": 419,
     "metadata": {},
     "output_type": "execute_result"
    }
   ],
   "source": [
    "dept_df['infirmiers_habitant'].describe()"
   ]
  },
  {
   "cell_type": "code",
   "execution_count": 420,
   "metadata": {},
   "outputs": [
    {
     "data": {
      "text/plain": [
       "count     96.000000\n",
       "mean      25.761957\n",
       "std       12.595246\n",
       "min       12.438695\n",
       "25%       19.397893\n",
       "50%       23.083313\n",
       "75%       28.486161\n",
       "max      114.154416\n",
       "Name: hopital_habitant, dtype: float64"
      ]
     },
     "execution_count": 420,
     "metadata": {},
     "output_type": "execute_result"
    }
   ],
   "source": [
    "dept_df['hopital_habitant'].describe()"
   ]
  },
  {
   "cell_type": "code",
   "execution_count": 107,
   "metadata": {},
   "outputs": [],
   "source": [
    "# Moyennes générales :\n",
    "\n",
    "MOY_GENERALISTES_PAR_HAB = 141.9\n",
    "MOY_INFIRMIERS_PAR_HAB = 217.7\n",
    "MOY_HOPITAUX_PAR_HAB = 25.7"
   ]
  },
  {
   "cell_type": "markdown",
   "metadata": {},
   "source": [
    "On définit une fonction qui calcule l'écart à la moyenne pour trois des indices les plus importants, effectue ensuite la moyenne de ces écarts et multiplie le tout par 100. Plus l'indice est bas, plus le département a des carences en terme d'accès aux professionnels de santé."
   ]
  },
  {
   "cell_type": "code",
   "execution_count": 108,
   "metadata": {},
   "outputs": [],
   "source": [
    "def indice(tx_generalistes,tx_infirmiers,tx_hopitaux):\n",
    "    indice = (((tx_generalistes / MOY_GENERALISTES_PAR_HAB)\n",
    "                    +(tx_infirmiers / MOY_INFIRMIERS_PAR_HAB)\n",
    "                    +(tx_hopitaux / MOY_HOPITAUX_PAR_HAB))\n",
    "                   / 3)\n",
    "    return indice * 100\n",
    "    "
   ]
  },
  {
   "cell_type": "code",
   "execution_count": 109,
   "metadata": {},
   "outputs": [],
   "source": [
    "dept_df['indice'] = indice(dept_df['generaliste_habitant'],dept_df['infirmiers_habitant'],dept_df['hopital_habitant'])"
   ]
  },
  {
   "cell_type": "code",
   "execution_count": 424,
   "metadata": {},
   "outputs": [
    {
     "data": {
      "text/html": [
       "<div>\n",
       "<style scoped>\n",
       "    .dataframe tbody tr th:only-of-type {\n",
       "        vertical-align: middle;\n",
       "    }\n",
       "\n",
       "    .dataframe tbody tr th {\n",
       "        vertical-align: top;\n",
       "    }\n",
       "\n",
       "    .dataframe thead th {\n",
       "        text-align: right;\n",
       "    }\n",
       "</style>\n",
       "<table border=\"1\" class=\"dataframe\">\n",
       "  <thead>\n",
       "    <tr style=\"text-align: right;\">\n",
       "      <th></th>\n",
       "      <th>NBPERSMENFISC15</th>\n",
       "      <th>ambulance</th>\n",
       "      <th>analyse_medicale</th>\n",
       "      <th>autre</th>\n",
       "      <th>autre_specialiste</th>\n",
       "      <th>chirurgien</th>\n",
       "      <th>dentiste</th>\n",
       "      <th>generaliste</th>\n",
       "      <th>hopital</th>\n",
       "      <th>infirmiers</th>\n",
       "      <th>organe</th>\n",
       "      <th>radiologiste</th>\n",
       "      <th>reeducateur_podologue</th>\n",
       "      <th>generaliste_habitant</th>\n",
       "      <th>infirmiers_habitant</th>\n",
       "      <th>ambulance_habitant</th>\n",
       "      <th>hopital_habitant</th>\n",
       "      <th>regionName</th>\n",
       "      <th>departmentName</th>\n",
       "      <th>indice</th>\n",
       "    </tr>\n",
       "    <tr>\n",
       "      <th>departement</th>\n",
       "      <th></th>\n",
       "      <th></th>\n",
       "      <th></th>\n",
       "      <th></th>\n",
       "      <th></th>\n",
       "      <th></th>\n",
       "      <th></th>\n",
       "      <th></th>\n",
       "      <th></th>\n",
       "      <th></th>\n",
       "      <th></th>\n",
       "      <th></th>\n",
       "      <th></th>\n",
       "      <th></th>\n",
       "      <th></th>\n",
       "      <th></th>\n",
       "      <th></th>\n",
       "      <th></th>\n",
       "      <th></th>\n",
       "      <th></th>\n",
       "    </tr>\n",
       "  </thead>\n",
       "  <tbody>\n",
       "    <tr>\n",
       "      <th>01</th>\n",
       "      <td>611797.0</td>\n",
       "      <td>82.0</td>\n",
       "      <td>39.0</td>\n",
       "      <td>718.0</td>\n",
       "      <td>203.0</td>\n",
       "      <td>39.0</td>\n",
       "      <td>368.0</td>\n",
       "      <td>597.0</td>\n",
       "      <td>138.0</td>\n",
       "      <td>1070.0</td>\n",
       "      <td>1.0</td>\n",
       "      <td>38.0</td>\n",
       "      <td>959.0</td>\n",
       "      <td>97.581387</td>\n",
       "      <td>174.894614</td>\n",
       "      <td>13.403139</td>\n",
       "      <td>22.556502</td>\n",
       "      <td>Auvergne-Rhône-Alpes</td>\n",
       "      <td>Ain</td>\n",
       "      <td>78.957882</td>\n",
       "    </tr>\n",
       "    <tr>\n",
       "      <th>02</th>\n",
       "      <td>518914.0</td>\n",
       "      <td>65.0</td>\n",
       "      <td>36.0</td>\n",
       "      <td>238.0</td>\n",
       "      <td>263.0</td>\n",
       "      <td>25.0</td>\n",
       "      <td>261.0</td>\n",
       "      <td>567.0</td>\n",
       "      <td>119.0</td>\n",
       "      <td>986.0</td>\n",
       "      <td>5.0</td>\n",
       "      <td>59.0</td>\n",
       "      <td>562.0</td>\n",
       "      <td>109.266661</td>\n",
       "      <td>190.012218</td>\n",
       "      <td>12.526160</td>\n",
       "      <td>22.932509</td>\n",
       "      <td>Nord-Pas-de-Calais-Picardie</td>\n",
       "      <td>Aisne</td>\n",
       "      <td>84.505271</td>\n",
       "    </tr>\n",
       "    <tr>\n",
       "      <th>03</th>\n",
       "      <td>332244.5</td>\n",
       "      <td>59.0</td>\n",
       "      <td>25.0</td>\n",
       "      <td>307.0</td>\n",
       "      <td>157.0</td>\n",
       "      <td>35.0</td>\n",
       "      <td>192.0</td>\n",
       "      <td>392.0</td>\n",
       "      <td>59.0</td>\n",
       "      <td>774.0</td>\n",
       "      <td>2.0</td>\n",
       "      <td>30.0</td>\n",
       "      <td>525.0</td>\n",
       "      <td>117.985399</td>\n",
       "      <td>232.960967</td>\n",
       "      <td>17.758007</td>\n",
       "      <td>17.758007</td>\n",
       "      <td>Auvergne-Rhône-Alpes</td>\n",
       "      <td>Allier</td>\n",
       "      <td>86.418085</td>\n",
       "    </tr>\n",
       "    <tr>\n",
       "      <th>04</th>\n",
       "      <td>156728.5</td>\n",
       "      <td>23.0</td>\n",
       "      <td>18.0</td>\n",
       "      <td>279.0</td>\n",
       "      <td>118.0</td>\n",
       "      <td>15.0</td>\n",
       "      <td>134.0</td>\n",
       "      <td>342.0</td>\n",
       "      <td>48.0</td>\n",
       "      <td>631.0</td>\n",
       "      <td>0.0</td>\n",
       "      <td>6.0</td>\n",
       "      <td>419.0</td>\n",
       "      <td>218.211748</td>\n",
       "      <td>402.607056</td>\n",
       "      <td>14.675059</td>\n",
       "      <td>30.626210</td>\n",
       "      <td>Provence-Alpes-Côte d'Azur</td>\n",
       "      <td>Alpes-de-Haute-Provence</td>\n",
       "      <td>152.627770</td>\n",
       "    </tr>\n",
       "    <tr>\n",
       "      <th>05</th>\n",
       "      <td>135089.5</td>\n",
       "      <td>33.0</td>\n",
       "      <td>14.0</td>\n",
       "      <td>235.0</td>\n",
       "      <td>138.0</td>\n",
       "      <td>21.0</td>\n",
       "      <td>134.0</td>\n",
       "      <td>379.0</td>\n",
       "      <td>66.0</td>\n",
       "      <td>483.0</td>\n",
       "      <td>2.0</td>\n",
       "      <td>25.0</td>\n",
       "      <td>596.0</td>\n",
       "      <td>280.554743</td>\n",
       "      <td>357.540742</td>\n",
       "      <td>24.428249</td>\n",
       "      <td>48.856499</td>\n",
       "      <td>Provence-Alpes-Côte d'Azur</td>\n",
       "      <td>Hautes-Alpes</td>\n",
       "      <td>184.017211</td>\n",
       "    </tr>\n",
       "  </tbody>\n",
       "</table>\n",
       "</div>"
      ],
      "text/plain": [
       "             NBPERSMENFISC15  ambulance  analyse_medicale  autre  \\\n",
       "departement                                                        \n",
       "01                  611797.0       82.0              39.0  718.0   \n",
       "02                  518914.0       65.0              36.0  238.0   \n",
       "03                  332244.5       59.0              25.0  307.0   \n",
       "04                  156728.5       23.0              18.0  279.0   \n",
       "05                  135089.5       33.0              14.0  235.0   \n",
       "\n",
       "             autre_specialiste  chirurgien  dentiste  generaliste  hopital  \\\n",
       "departement                                                                  \n",
       "01                       203.0        39.0     368.0        597.0    138.0   \n",
       "02                       263.0        25.0     261.0        567.0    119.0   \n",
       "03                       157.0        35.0     192.0        392.0     59.0   \n",
       "04                       118.0        15.0     134.0        342.0     48.0   \n",
       "05                       138.0        21.0     134.0        379.0     66.0   \n",
       "\n",
       "             infirmiers  organe  radiologiste  reeducateur_podologue  \\\n",
       "departement                                                            \n",
       "01               1070.0     1.0          38.0                  959.0   \n",
       "02                986.0     5.0          59.0                  562.0   \n",
       "03                774.0     2.0          30.0                  525.0   \n",
       "04                631.0     0.0           6.0                  419.0   \n",
       "05                483.0     2.0          25.0                  596.0   \n",
       "\n",
       "             generaliste_habitant  infirmiers_habitant  ambulance_habitant  \\\n",
       "departement                                                                  \n",
       "01                      97.581387           174.894614           13.403139   \n",
       "02                     109.266661           190.012218           12.526160   \n",
       "03                     117.985399           232.960967           17.758007   \n",
       "04                     218.211748           402.607056           14.675059   \n",
       "05                     280.554743           357.540742           24.428249   \n",
       "\n",
       "             hopital_habitant                   regionName  \\\n",
       "departement                                                  \n",
       "01                  22.556502         Auvergne-Rhône-Alpes   \n",
       "02                  22.932509  Nord-Pas-de-Calais-Picardie   \n",
       "03                  17.758007         Auvergne-Rhône-Alpes   \n",
       "04                  30.626210   Provence-Alpes-Côte d'Azur   \n",
       "05                  48.856499   Provence-Alpes-Côte d'Azur   \n",
       "\n",
       "                      departmentName      indice  \n",
       "departement                                       \n",
       "01                               Ain   78.957882  \n",
       "02                             Aisne   84.505271  \n",
       "03                            Allier   86.418085  \n",
       "04           Alpes-de-Haute-Provence  152.627770  \n",
       "05                      Hautes-Alpes  184.017211  "
      ]
     },
     "execution_count": 424,
     "metadata": {},
     "output_type": "execute_result"
    }
   ],
   "source": [
    "dept_df.head()"
   ]
  },
  {
   "cell_type": "code",
   "execution_count": null,
   "metadata": {},
   "outputs": [],
   "source": []
  },
  {
   "cell_type": "code",
   "execution_count": 110,
   "metadata": {},
   "outputs": [],
   "source": [
    "dept_df.to_csv('departements_et_regions.csv', sep=',', encoding='utf-8', quotechar='\"', index=True, quoting=csv.QUOTE_ALL)"
   ]
  },
  {
   "cell_type": "code",
   "execution_count": null,
   "metadata": {},
   "outputs": [],
   "source": []
  }
 ],
 "metadata": {
  "kernelspec": {
   "display_name": "Python 3",
   "language": "python",
   "name": "python3"
  },
  "language_info": {
   "codemirror_mode": {
    "name": "ipython",
    "version": 3
   },
   "file_extension": ".py",
   "mimetype": "text/x-python",
   "name": "python",
   "nbconvert_exporter": "python",
   "pygments_lexer": "ipython3",
   "version": "3.6.7"
  }
 },
 "nbformat": 4,
 "nbformat_minor": 2
}
