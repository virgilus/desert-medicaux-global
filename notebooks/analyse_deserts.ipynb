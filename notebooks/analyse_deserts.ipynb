{
 "cells": [
  {
   "cell_type": "code",
   "execution_count": 25,
   "metadata": {},
   "outputs": [],
   "source": [
    "import os\n",
    "\n",
    "%matplotlib inline\n",
    "import pandas as pd"
   ]
  },
  {
   "cell_type": "code",
   "execution_count": 26,
   "metadata": {},
   "outputs": [],
   "source": [
    "# Déclaration des constantes\n",
    "DATA_DIR = '../data/external/'\n",
    "PROCESSED_DIR = '../data/processed/'\n",
    "\n",
    "CITIES_FILENAME = 'base-cc-filosofi-2015.xls'\n",
    "PS_CITIES_FILENAME = 'PS_Communes.csv'\n",
    "ANALYSIS_FILENAME = 'analyse.csv'"
   ]
  },
  {
   "cell_type": "code",
   "execution_count": 27,
   "metadata": {},
   "outputs": [],
   "source": [
    "analyse_df = pd.read_csv(os.path.join(PROCESSED_DIR, ANALYSIS_FILENAME),\n",
    "                                 sep=';',\n",
    "                                 dtype={'CODGEO':str, 'codecommuneetablissement':str}, #On les encodre en string car les données manquantes sont considérées comme des nombres, donc mix types, donc bug.\n",
    "                                 )"
   ]
  },
  {
   "cell_type": "code",
   "execution_count": 28,
   "metadata": {},
   "outputs": [
    {
     "data": {
      "text/plain": [
       "[(0, 'CODGEO'),\n",
       " (1, 'LIBGEO'),\n",
       " (2, 'NBMENFISC15'),\n",
       " (3, 'NBPERSMENFISC15'),\n",
       " (4, 'MED15'),\n",
       " (5, 'PIMP15'),\n",
       " (6, 'TP6015'),\n",
       " (7, 'TP60AGE115'),\n",
       " (8, 'TP60AGE215'),\n",
       " (9, 'TP60AGE315'),\n",
       " (10, 'TP60AGE415'),\n",
       " (11, 'TP60AGE515'),\n",
       " (12, 'TP60AGE615'),\n",
       " (13, 'TP60TOL115'),\n",
       " (14, 'TP60TOL215'),\n",
       " (15, 'PACT15'),\n",
       " (16, 'PTSA15'),\n",
       " (17, 'PCHO15'),\n",
       " (18, 'PBEN15'),\n",
       " (19, 'PPEN15'),\n",
       " (20, 'PPAT15'),\n",
       " (21, 'PPSOC15'),\n",
       " (22, 'PPFAM15'),\n",
       " (23, 'PPMINI15'),\n",
       " (24, 'PPLOGT15'),\n",
       " (25, 'PIMPOT15'),\n",
       " (26, 'D115'),\n",
       " (27, 'D915'),\n",
       " (28, 'RD15'),\n",
       " (29, 'codecommuneetablissement'),\n",
       " (30, 'ambulance'),\n",
       " (31, 'analyse_medicale'),\n",
       " (32, 'autre'),\n",
       " (33, 'autre_specialiste'),\n",
       " (34, 'chirurgien'),\n",
       " (35, 'dentiste'),\n",
       " (36, 'generaliste'),\n",
       " (37, 'hopital'),\n",
       " (38, 'infirmiers'),\n",
       " (39, 'organe'),\n",
       " (40, 'radiologiste'),\n",
       " (41, 'reeducateur_podologue'),\n",
       " (42, '_merge')]"
      ]
     },
     "execution_count": 28,
     "metadata": {},
     "output_type": "execute_result"
    }
   ],
   "source": [
    "# Utile pour analyser ce qu'il se passe lorsque des mixed types sont importés\n",
    "list(enumerate(analyse_df.columns))"
   ]
  },
  {
   "cell_type": "code",
   "execution_count": 29,
   "metadata": {},
   "outputs": [
    {
     "data": {
      "text/plain": [
       "0.000642164172143855"
      ]
     },
     "execution_count": 29,
     "metadata": {},
     "output_type": "execute_result"
    }
   ],
   "source": [
    "(analyse_df.generaliste / analyse_df.NBPERSMENFISC15).mean()"
   ]
  },
  {
   "cell_type": "code",
   "execution_count": 30,
   "metadata": {},
   "outputs": [
    {
     "data": {
      "text/plain": [
       "691.9421514445384"
      ]
     },
     "execution_count": 30,
     "metadata": {},
     "output_type": "execute_result"
    }
   ],
   "source": [
    "analyse_df.NBPERSMENFISC15.sum() / analyse_df.generaliste.sum()"
   ]
  },
  {
   "cell_type": "code",
   "execution_count": 31,
   "metadata": {},
   "outputs": [
    {
     "data": {
      "text/plain": [
       "67108701.5"
      ]
     },
     "execution_count": 31,
     "metadata": {},
     "output_type": "execute_result"
    }
   ],
   "source": [
    "analyse_df.NBPERSMENFISC15.sum() # Nombre d'habitants (ici j'ai une petite erreur)"
   ]
  },
  {
   "cell_type": "code",
   "execution_count": 32,
   "metadata": {},
   "outputs": [
    {
     "data": {
      "text/plain": [
       "96986.0"
      ]
     },
     "execution_count": 32,
     "metadata": {},
     "output_type": "execute_result"
    }
   ],
   "source": [
    "analyse_df.generaliste.sum()"
   ]
  },
  {
   "cell_type": "code",
   "execution_count": 19,
   "metadata": {},
   "outputs": [
    {
     "data": {
      "text/plain": [
       "Index(['CODGEO', 'LIBGEO', 'NBMENFISC15', 'NBPERSMENFISC15', 'MED15', 'PIMP15',\n",
       "       'TP6015', 'TP60AGE115', 'TP60AGE215', 'TP60AGE315', 'TP60AGE415',\n",
       "       'TP60AGE515', 'TP60AGE615', 'TP60TOL115', 'TP60TOL215', 'PACT15',\n",
       "       'PTSA15', 'PCHO15', 'PBEN15', 'PPEN15', 'PPAT15', 'PPSOC15', 'PPFAM15',\n",
       "       'PPMINI15', 'PPLOGT15', 'PIMPOT15', 'D115', 'D915', 'RD15',\n",
       "       'codecommuneetablissement', 'ambulance', 'analyse_medicale', 'autre',\n",
       "       'autre_specialiste', 'chirurgien', 'dentiste', 'generaliste', 'hopital',\n",
       "       'infirmiers', 'organe', 'radiologiste', 'reeducateur_podologue',\n",
       "       '_merge'],\n",
       "      dtype='object')"
      ]
     },
     "execution_count": 19,
     "metadata": {},
     "output_type": "execute_result"
    }
   ],
   "source": [
    "analyse_df.columns"
   ]
  },
  {
   "cell_type": "code",
   "execution_count": 33,
   "metadata": {},
   "outputs": [
    {
     "data": {
      "text/plain": [
       "(35922, 43)"
      ]
     },
     "execution_count": 33,
     "metadata": {},
     "output_type": "execute_result"
    }
   ],
   "source": [
    "analyse_df.shape"
   ]
  },
  {
   "cell_type": "code",
   "execution_count": 34,
   "metadata": {},
   "outputs": [
    {
     "data": {
      "text/plain": [
       "<matplotlib.axes._subplots.AxesSubplot at 0x1558334d7f0>"
      ]
     },
     "execution_count": 34,
     "metadata": {},
     "output_type": "execute_result"
    },
    {
     "data": {
      "image/png": "[encoded data removed]",
      "text/plain": [
       "<Figure size 432x288 with 1 Axes>"
      ]
     },
     "metadata": {
      "needs_background": "light"
     },
     "output_type": "display_data"
    }
   ],
   "source": [
    "(100_000 * analyse_df.generaliste / analyse_df.NBPERSMENFISC15).hist(bins=50)"
   ]
  },
  {
   "cell_type": "code",
   "execution_count": 37,
   "metadata": {},
   "outputs": [],
   "source": [
    "analyse_df['generaliste_habitants'] = (100_000 * analyse_df.generaliste / analyse_df.NBPERSMENFISC15)"
   ]
  },
  {
   "cell_type": "code",
   "execution_count": 38,
   "metadata": {},
   "outputs": [
    {
     "data": {
      "text/plain": [
       "<matplotlib.axes._subplots.AxesSubplot at 0x1558d091cc0>"
      ]
     },
     "execution_count": 38,
     "metadata": {},
     "output_type": "execute_result"
    },
    {
     "data": {
      "image/png": "[encoded data removed]",
      "text/plain": [
       "<Figure size 432x288 with 1 Axes>"
      ]
     },
     "metadata": {
      "needs_background": "light"
     },
     "output_type": "display_data"
    }
   ],
   "source": [
    "analyse_df.query('generaliste_habitants < 500').generaliste_habitants.hist(bins=50)"
   ]
  },
  {
   "cell_type": "code",
   "execution_count": null,
   "metadata": {},
   "outputs": [],
   "source": []
  }
 ],
 "metadata": {
  "kernelspec": {
   "display_name": "Python 3",
   "language": "python",
   "name": "python3"
  },
  "language_info": {
   "codemirror_mode": {
    "name": "ipython",
    "version": 3
   },
   "file_extension": ".py",
   "mimetype": "text/x-python",
   "name": "python",
   "nbconvert_exporter": "python",
   "pygments_lexer": "ipython3",
   "version": "3.7.2"
  }
 },
 "nbformat": 4,
 "nbformat_minor": 2
}
